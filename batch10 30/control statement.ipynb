{
 "cells": [
  {
   "cell_type": "markdown",
   "metadata": {},
   "source": [
    "## steps to solve problem\n",
    "* problem defination and research\n",
    "* Requirement gathering and analysis\n",
    "* project symposis(software engg)\n",
    "* algorithm\n",
    "* flow chart\n",
    "* coding\n",
    "* integration\n",
    "* testing\n",
    "* deploy\n",
    "* mantinece\n",
    "* feedback\n",
    "\n",
    "#### math 6.042 computer"
   ]
  },
  {
   "cell_type": "markdown",
   "metadata": {},
   "source": [
    "# alogithm problem soln in your language\n",
    "#atm machine\n",
    " * step1 : start\n",
    "  * step2 : read card information\n",
    "  * step3 : fetch details of card  from database\n",
    "  * step4 : ask for pin\n",
    "  * step5:verify pin if correct go to step6 else go to step7\n",
    "  * step6: print main menu\n",
    "  ..\n",
    "    ..\n",
    "   * step7 : print error\n",
    "   * step8 : end"
   ]
  },
  {
   "cell_type": "code",
   "execution_count": 2,
   "metadata": {},
   "outputs": [
    {
     "name": "stdout",
     "output_type": "stream",
     "text": [
      "hello\n"
     ]
    }
   ],
   "source": [
    " print(\"hello\") if True else print(\"bye\")"
   ]
  },
  {
   "cell_type": "code",
   "execution_count": 4,
   "metadata": {},
   "outputs": [
    {
     "name": "stdout",
     "output_type": "stream",
     "text": [
      "enter number :13\n",
      "even\n"
     ]
    }
   ],
   "source": [
    "num= int(input(\"enter number :\"))\n",
    "print(\"even\")if num%2 else print(\"odd\")"
   ]
  },
  {
   "cell_type": "code",
   "execution_count": 7,
   "metadata": {},
   "outputs": [
    {
     "name": "stdout",
     "output_type": "stream",
     "text": [
      "\n",
      "bye\n"
     ]
    }
   ],
   "source": [
    "print(\"hello\")if print() else print(\"bye\") # print() it display none so if print() is false so the statement is not write so the output is bye "
   ]
  },
  {
   "cell_type": "code",
   "execution_count": 14,
   "metadata": {},
   "outputs": [
    {
     "name": "stdout",
     "output_type": "stream",
     "text": [
      "hfg\n",
      "smjh m aya kya\n"
     ]
    }
   ],
   "source": [
    "if input():\n",
    "    print(\"smjh m aya kya\")\n",
    "else :\n",
    "        print(\"mgj me aya kya\")"
   ]
  },
  {
   "cell_type": "code",
   "execution_count": 18,
   "metadata": {},
   "outputs": [
    {
     "name": "stdout",
     "output_type": "stream",
     "text": [
      "enter age 19\n",
      " they can give vote\n"
     ]
    }
   ],
   "source": [
    "num = int(input(\"enter age \"))\n",
    "print(\" they can give vote\") if num>=18 else print(\" they cannot give vote\")"
   ]
  },
  {
   "cell_type": "markdown",
   "metadata": {},
   "source": []
  },
  {
   "cell_type": "code",
   "execution_count": 24,
   "metadata": {},
   "outputs": [
    {
     "name": "stdout",
     "output_type": "stream",
     "text": [
      "enter the amount 099\n",
      "ghr betho ipl dekho\n"
     ]
    }
   ],
   "source": [
    "amount = int(input(\"enter the amount \"))\n",
    "if amount>1000 :\n",
    " print(\"he can go to movie\")\n",
    "elif amount>800 :\n",
    " print(\"he can got to resort\")\n",
    "else :\n",
    " print(\"ghr betho ipl dekho\")"
   ]
  },
  {
   "cell_type": "code",
   "execution_count": null,
   "metadata": {},
   "outputs": [],
   "source": [
    "profession = str(input(\"enter your profession  \"))\n",
    "if profession==\"goverment\" :\n",
    "     salary=int(input(\"ent"
   ]
  },
  {
   "cell_type": "code",
   "execution_count": 13,
   "metadata": {},
   "outputs": [
    {
     "name": "stdout",
     "output_type": "stream",
     "text": [
      "enter your profession  goverment\n",
      "enter your salary  59000\n",
      "submit your document we will process your loan shortly\n"
     ]
    }
   ],
   "source": [
    "profession = input(\"enter your profession  \")\n",
    "profession = profession.strip().lower()\n",
    "if profession == \"goverment\" :\n",
    "     salary=eval(input(\"enter your salary  \"))\n",
    "     if salary>=50000 :\n",
    "         print(\"submit your document we will process your loan shortly\")\n",
    "     else :\n",
    "         print(\"not give loan \")\n",
    "else:\n",
    "    print(\"sry ham apko loan nhi de skta\")"
   ]
  },
  {
   "cell_type": "code",
   "execution_count": 18,
   "metadata": {},
   "outputs": [
    {
     "name": "stdout",
     "output_type": "stream",
     "text": [
      "enter no.1  1\n",
      "enter no.2  9\n",
      "enter no.3  6\n",
      "b is greater \n"
     ]
    }
   ],
   "source": [
    "a= int(input(\"enter no.1  \"))\n",
    "b= int(input(\"enter no.2  \"))\n",
    "c= int(input(\"enter no.3  \"))\n",
    "if(a>b) :\n",
    "   if(a>c):\n",
    "     print(\"a is greater \")\n",
    "   else:\n",
    "     print(\"c is greater\")   \n",
    "elif(b>c) :\n",
    "    print(\"b is greater \")\n",
    "else :\n",
    "    print(\"c is greater \")\n",
    "    "
   ]
  },
  {
   "cell_type": "code",
   "execution_count": 22,
   "metadata": {},
   "outputs": [
    {
     "name": "stdout",
     "output_type": "stream",
     "text": [
      "enter no.1  9\n",
      "enter no.2  5\n",
      "enter no.3  4\n",
      "a is greater \n"
     ]
    }
   ],
   "source": [
    "a= int(input(\"enter no.1  \"))\n",
    "b= int(input(\"enter no.2  \"))\n",
    "c= int(input(\"enter no.3  \"))\n",
    "if(a>b and a>c) :\n",
    "     print(\"a is greater \")\n",
    "   #else:\n",
    "    # print(\"c is greater\")   \n",
    "elif(b>c) :\n",
    "    print(\"b is greater \")\n",
    "else :\n",
    "    print(\"c is greater \")\n",
    "    "
   ]
  },
  {
   "cell_type": "code",
   "execution_count": null,
   "metadata": {},
   "outputs": [],
   "source": [
    "p1_win= [('rock','scissor'),\n",
    "        ('paper','rock'),\n",
    "        ('scissor','paper')\n",
    "        ]\n",
    "from getpass import getpass\n",
    "ch1= getpass(\"player1: \").strip().lower()\n",
    "ch2= getpass(\"player2: \").strip().lower()\n",
    "ch=(ch1,ch2)\n"
   ]
  },
  {
   "cell_type": "code",
   "execution_count": null,
   "metadata": {},
   "outputs": [],
   "source": []
  }
 ],
 "metadata": {
  "kernelspec": {
   "display_name": "Python 3",
   "language": "python",
   "name": "python3"
  },
  "language_info": {
   "codemirror_mode": {
    "name": "ipython",
    "version": 3
   },
   "file_extension": ".py",
   "mimetype": "text/x-python",
   "name": "python",
   "nbconvert_exporter": "python",
   "pygments_lexer": "ipython3",
   "version": "3.7.3"
  }
 },
 "nbformat": 4,
 "nbformat_minor": 2
}
