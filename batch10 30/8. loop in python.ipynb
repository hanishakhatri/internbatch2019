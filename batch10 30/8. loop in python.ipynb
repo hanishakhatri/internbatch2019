{
 "cells": [
  {
   "cell_type": "code",
   "execution_count": 2,
   "metadata": {},
   "outputs": [],
   "source": [
    "while False:\n",
    "    print(\"hello world\")\n",
    "    print(\"bye world\")"
   ]
  },
  {
   "cell_type": "code",
   "execution_count": 3,
   "metadata": {},
   "outputs": [
    {
     "name": "stdout",
     "output_type": "stream",
     "text": [
      "hello world\n",
      "hello world\n"
     ]
    }
   ],
   "source": [
    "flag = True \n",
    "while flag <=2 :\n",
    "    print(\"hello world\")\n",
    "    flag +=1"
   ]
  },
  {
   "cell_type": "code",
   "execution_count": 5,
   "metadata": {},
   "outputs": [
    {
     "name": "stdout",
     "output_type": "stream",
     "text": [
      "1\n",
      "2\n",
      "3\n",
      "4\n",
      "5\n",
      "6\n",
      "7\n",
      "8\n",
      "9\n",
      "10\n"
     ]
    }
   ],
   "source": [
    "counter=1\n",
    "while counter<=10 :\n",
    "    print(f\"{counter}\")\n",
    "    counter +=1"
   ]
  },
  {
   "cell_type": "code",
   "execution_count": 9,
   "metadata": {},
   "outputs": [
    {
     "name": "stdout",
     "output_type": "stream",
     "text": [
      "                   1    1     1\n",
      "                   2    4     8\n",
      "                   3    9    27\n",
      "                   4   16    64\n",
      "                   5   25   125\n",
      "                   6   36   216\n",
      "                   7   49   343\n",
      "                   8   64   512\n",
      "                   9   81   729\n",
      "                  10  100  1000\n"
     ]
    }
   ],
   "source": [
    "counter=1\n",
    "while counter<=10 :\n",
    "    print(f\"{counter :>20}{counter**2 :>5}{counter**3 :>6}\")\n",
    "    counter +=1"
   ]
  },
  {
   "cell_type": "code",
   "execution_count": 10,
   "metadata": {},
   "outputs": [],
   "source": [
    "#WAP to print a table of a no."
   ]
  },
  {
   "cell_type": "code",
   "execution_count": 2,
   "metadata": {},
   "outputs": [
    {
     "name": "stdout",
     "output_type": "stream",
     "text": [
      "enter the no. 5\n",
      "5*1=    5\n",
      "5*2=   10\n",
      "5*3=   15\n",
      "5*4=   20\n",
      "5*5=   25\n",
      "5*6=   30\n",
      "5*7=   35\n",
      "5*8=   40\n",
      "5*9=   45\n",
      "5*10=   50\n"
     ]
    }
   ],
   "source": [
    "num=int(input(\"enter the no. \"))\n",
    "counter=1\n",
    "while counter<=10 :\n",
    "         print(f\"{num}*{counter}={num*counter:>5}\")    \n",
    "         counter +=1"
   ]
  },
  {
   "cell_type": "code",
   "execution_count": 7,
   "metadata": {},
   "outputs": [
    {
     "name": "stdout",
     "output_type": "stream",
     "text": [
      "enter the no. 5\n",
      "    0+5=    5\n",
      "    5+5=   10\n",
      "   10+5=   15\n",
      "   15+5=   20\n",
      "   20+5=   25\n",
      "   25+5=   30\n",
      "   30+5=   35\n",
      "   35+5=   40\n",
      "   40+5=   45\n",
      "   45+5=   50\n"
     ]
    }
   ],
   "source": [
    "num= int(input(\"enter the no. \"))\n",
    "c=1\n",
    "s=0\n",
    "while c <=10:\n",
    "    print(f\"{s:>5}+{num}={s+num:>5}\")\n",
    "    s=s+num\n",
    "    c= c+1"
   ]
  },
  {
   "cell_type": "code",
   "execution_count": null,
   "metadata": {},
   "outputs": [],
   "source": [
    "# print from 1-100 all odd num in reverse order"
   ]
  },
  {
   "cell_type": "code",
   "execution_count": 1,
   "metadata": {},
   "outputs": [
    {
     "name": "stdout",
     "output_type": "stream",
     "text": [
      "99\n",
      "97\n",
      "95\n",
      "93\n",
      "91\n",
      "89\n",
      "87\n",
      "85\n",
      "83\n",
      "81\n",
      "79\n",
      "77\n",
      "75\n",
      "73\n",
      "71\n",
      "69\n",
      "67\n",
      "65\n",
      "63\n",
      "61\n",
      "59\n",
      "57\n",
      "55\n",
      "53\n",
      "51\n",
      "49\n",
      "47\n",
      "45\n",
      "43\n",
      "41\n",
      "39\n",
      "37\n",
      "35\n",
      "33\n",
      "31\n",
      "29\n",
      "27\n",
      "25\n",
      "23\n",
      "21\n",
      "19\n",
      "17\n",
      "15\n",
      "13\n",
      "11\n",
      "9\n",
      "7\n",
      "5\n",
      "3\n",
      "1\n"
     ]
    }
   ],
   "source": [
    "c=99\n",
    "while c>=1:\n",
    "    if not(c%2==0):\n",
    "        print(c)\n",
    "    c =c-1"
   ]
  },
  {
   "cell_type": "code",
   "execution_count": 1,
   "metadata": {},
   "outputs": [
    {
     "name": "stdout",
     "output_type": "stream",
     "text": [
      "5\n",
      "7\n",
      "10\n",
      "14\n",
      "15\n",
      "20\n",
      "21\n",
      "25\n",
      "28\n",
      "30\n",
      "35\n",
      "40\n",
      "42\n",
      "45\n",
      "49\n",
      "50\n",
      "55\n",
      "56\n",
      "60\n",
      "63\n",
      "65\n",
      "70\n",
      "75\n",
      "77\n",
      "80\n",
      "84\n",
      "85\n",
      "90\n",
      "91\n",
      "95\n",
      "98\n",
      "100\n"
     ]
    }
   ],
   "source": [
    "counter=1 \n",
    "while counter<=100:\n",
    "    if counter%5==0 or counter%7==0 :\n",
    "        print(counter)\n",
    "    counter = counter +1"
   ]
  },
  {
   "cell_type": "code",
   "execution_count": 2,
   "metadata": {},
   "outputs": [
    {
     "name": "stdout",
     "output_type": "stream",
     "text": [
      "35\n",
      "70\n"
     ]
    }
   ],
   "source": [
    "counter=1 \n",
    "while counter<=100:\n",
    "    if counter%5==0 and counter%7==0 :\n",
    "        print(counter)\n",
    "    counter = counter +1"
   ]
  },
  {
   "cell_type": "code",
   "execution_count": 5,
   "metadata": {},
   "outputs": [
    {
     "name": "stdout",
     "output_type": "stream",
     "text": [
      "39,96,93,93,52,44,87,27,50,28,"
     ]
    }
   ],
   "source": [
    "from random import randint\n",
    "c=1\n",
    "while c<=10:\n",
    "    print(randint(1,100),end=',')\n",
    "    c+=1"
   ]
  },
  {
   "cell_type": "code",
   "execution_count": 6,
   "metadata": {},
   "outputs": [
    {
     "name": "stdout",
     "output_type": "stream",
     "text": [
      "1,2,3,4,5,loop finished it's work\n"
     ]
    }
   ],
   "source": [
    "c=1\n",
    "while c<=5:\n",
    "    print(c,end=',')\n",
    "    c +=1\n",
    "else :\n",
    "    print(\"loop finished it's work\")"
   ]
  },
  {
   "cell_type": "code",
   "execution_count": 7,
   "metadata": {},
   "outputs": [],
   "source": [
    "c=1\n",
    "while c<=5:\n",
    "    break\n",
    "    print(c,end=',')\n",
    "    c +=1\n",
    "else :\n",
    "    print(\"loop finished it's work\")"
   ]
  },
  {
   "cell_type": "code",
   "execution_count": 8,
   "metadata": {},
   "outputs": [
    {
     "name": "stdout",
     "output_type": "stream",
     "text": [
      "1,"
     ]
    }
   ],
   "source": [
    "c=1\n",
    "while c<=5:\n",
    "    print(c,end=',')\n",
    "    c +=1\n",
    "    break\n",
    "else :\n",
    "    print(\"loop finished it's work\")"
   ]
  },
  {
   "cell_type": "code",
   "execution_count": null,
   "metadata": {},
   "outputs": [],
   "source": [
    "# write a code which loop from 1 to 10 but finish \n",
    "# is at 5 using break"
   ]
  },
  {
   "cell_type": "code",
   "execution_count": 14,
   "metadata": {},
   "outputs": [
    {
     "name": "stdout",
     "output_type": "stream",
     "text": [
      "1,2,3,4,"
     ]
    }
   ],
   "source": [
    "c=1\n",
    "while c<=10 :\n",
    "    if c==5 :\n",
    "        break\n",
    "    print(c,end=',')\n",
    "    c=c+1\n",
    "else :\n",
    "        print(\"loop finished\")"
   ]
  },
  {
   "cell_type": "code",
   "execution_count": 13,
   "metadata": {},
   "outputs": [
    {
     "name": "stdout",
     "output_type": "stream",
     "text": [
      "enter a num :40\n",
      "hello world\n",
      "enter a num :99\n"
     ]
    }
   ],
   "source": [
    "while True:\n",
    "    num=int(input(\"enter a num :\"))\n",
    "    if num>=1 and num<=50 :\n",
    "        print(\"hello world\")\n",
    "    else :\n",
    "        break\n"
   ]
  },
  {
   "cell_type": "code",
   "execution_count": 16,
   "metadata": {},
   "outputs": [
    {
     "name": "stdout",
     "output_type": "stream",
     "text": [
      "press any key : \n",
      "hello world\n",
      "press any key :\n",
      "bye world\n"
     ]
    }
   ],
   "source": [
    "# ask user to continue if he press a key print hello world\n",
    "#else print bye world\n",
    "while input(\"press any key :\") :\n",
    "     print(\"hello world\")\n",
    "else :\n",
    "    print(\"bye world\")\n",
    "    break"
   ]
  },
  {
   "cell_type": "code",
   "execution_count": 1,
   "metadata": {},
   "outputs": [
    {
     "name": "stdout",
     "output_type": "stream",
     "text": [
      "1,2,3,4,5,6,7,8,9,10,hello world\n"
     ]
    }
   ],
   "source": [
    "# continue \n",
    "c=1\n",
    "while c <= 10 :\n",
    "    print(c,end=',')\n",
    "    c = c+1\n",
    "    continue\n",
    "    \n",
    "else :\n",
    "        print(\"hello world\")"
   ]
  },
  {
   "cell_type": "code",
   "execution_count": 2,
   "metadata": {},
   "outputs": [
    {
     "name": "stdout",
     "output_type": "stream",
     "text": [
      "hello world\n"
     ]
    }
   ],
   "source": [
    "c=1\n",
    "while c <= 10 :\n",
    "    c=c+1\n",
    "    continue\n",
    "    print(c,end=',')\n",
    "    #c = c+1\n",
    "    #continue\n",
    "    \n",
    "else :\n",
    "        print(\"hello world\")"
   ]
  },
  {
   "cell_type": "code",
   "execution_count": 2,
   "metadata": {},
   "outputs": [
    {
     "name": "stdout",
     "output_type": "stream",
     "text": [
      "2\n",
      "4\n",
      "6\n",
      "8\n",
      "10\n"
     ]
    }
   ],
   "source": [
    "#print all even no btw 1-10 using continue\n",
    "c=1\n",
    "while c<=10 :\n",
    "    if c%2==0 :\n",
    "        print(c)\n",
    "        c=c+1\n",
    "    else:\n",
    "        c=c+1\n",
    "        continue"
   ]
  },
  {
   "cell_type": "code",
   "execution_count": null,
   "metadata": {},
   "outputs": [],
   "source": [
    "# write a guess game\n",
    "#every player has 5 chance to predict num\n",
    "# the range of guessing num 1-50\n",
    "#if guess is right print congratulation you won the game \n",
    "#  if all 5 guess are wrong print you such a loss the game\n"
   ]
  },
  {
   "cell_type": "code",
   "execution_count": 10,
   "metadata": {},
   "outputs": [
    {
     "name": "stdout",
     "output_type": "stream",
     "text": [
      "enter your Guess : 45\n",
      "hint be in limits think lowe\n",
      "enter your Guess : 23\n",
      "hint be in limits think lowe\n",
      "enter your Guess : 12\n",
      "hint be thing big\n",
      "enter your Guess : 17\n",
      "your choice is right\n"
     ]
    }
   ],
   "source": [
    "from random import randint\n",
    "conGuess =randint(1,50)\n",
    "life = 1\n",
    "while life <= 5 :\n",
    "    userGuess= int(input(\"enter your Guess : \"))\n",
    "    if userGuess > 50 or userGuess < 1 :\n",
    "        continue\n",
    "    if userGuess > conGuess :\n",
    "        print(\"hint be in limits think lowe\")\n",
    "    elif userGuess < conGuess:\n",
    "        print(\"hint be thing big\")\n",
    "    else:\n",
    "        print(\"your choice is right\")\n",
    "        break\n",
    "        life +=1\n",
    "else :\n",
    "    print(\"computer guess was: \",conGuess)\n",
    "    print(\"hey!! listen !! you such a losser\")"
   ]
  },
  {
   "cell_type": "code",
   "execution_count": 11,
   "metadata": {},
   "outputs": [
    {
     "ename": "TypeError",
     "evalue": "print() argument after * must be an iterable, not int",
     "output_type": "error",
     "traceback": [
      "\u001b[1;31m---------------------------------------------------------------------------\u001b[0m",
      "\u001b[1;31mTypeError\u001b[0m                                 Traceback (most recent call last)",
      "\u001b[1;32m<ipython-input-11-289ad3072ea1>\u001b[0m in \u001b[0;36m<module>\u001b[1;34m\u001b[0m\n\u001b[0;32m      2\u001b[0m \u001b[0mstart\u001b[0m\u001b[1;33m=\u001b[0m\u001b[1;36m2\u001b[0m\u001b[1;33m\u001b[0m\u001b[1;33m\u001b[0m\u001b[0m\n\u001b[0;32m      3\u001b[0m \u001b[0mend\u001b[0m\u001b[1;33m=\u001b[0m\u001b[1;36m12\u001b[0m\u001b[1;33m\u001b[0m\u001b[1;33m\u001b[0m\u001b[0m\n\u001b[1;32m----> 4\u001b[1;33m \u001b[0mprint\u001b[0m\u001b[1;33m(\u001b[0m\u001b[1;34m\"__\"\u001b[0m\u001b[1;33m,\u001b[0m\u001b[1;33m*\u001b[0m\u001b[1;36m80\u001b[0m\u001b[1;33m)\u001b[0m\u001b[1;33m\u001b[0m\u001b[1;33m\u001b[0m\u001b[0m\n\u001b[0m\u001b[0;32m      5\u001b[0m \u001b[1;32mwhile\u001b[0m \u001b[0mstart\u001b[0m \u001b[1;33m<=\u001b[0m \u001b[0mend\u001b[0m \u001b[1;33m:\u001b[0m\u001b[1;33m\u001b[0m\u001b[1;33m\u001b[0m\u001b[0m\n\u001b[0;32m      6\u001b[0m     \u001b[0mprint\u001b[0m\u001b[1;33m(\u001b[0m\u001b[0mf\u001b[0m\u001b[1;33m)\u001b[0m\u001b[1;33m\u001b[0m\u001b[1;33m\u001b[0m\u001b[0m\n",
      "\u001b[1;31mTypeError\u001b[0m: print() argument after * must be an iterable, not int"
     ]
    }
   ],
   "source": [
    "num=13\n",
    "start=2\n",
    "end=12\n",
    "print(\"__\",*80)\n",
    "while start <= end :\n",
    "    print(f\"{num}\")\n"
   ]
  },
  {
   "cell_type": "code",
   "execution_count": 15,
   "metadata": {},
   "outputs": [
    {
     "name": "stdout",
     "output_type": "stream",
     "text": [
      "enter the no. :299\n",
      "given no 299 is not prime\n"
     ]
    }
   ],
   "source": [
    "#prime\n",
    "from math import sqrt,ceil\n",
    "num=int(input(\"enter the no. :\"))\n",
    "start=2\n",
    "end = ceil(sqrt(num))\n",
    "while  start <= end:\n",
    "    if num % start ==0:\n",
    "        print(f\"given no {num} is not prime\")\n",
    "        break\n",
    "    start += 1\n",
    "else :\n",
    "    print(f\"given no {num} is prime\")"
   ]
  },
  {
   "cell_type": "code",
   "execution_count": 16,
   "metadata": {},
   "outputs": [
    {
     "ename": "SyntaxError",
     "evalue": "invalid syntax (<ipython-input-16-ba5a675af494>, line 5)",
     "output_type": "error",
     "traceback": [
      "\u001b[1;36m  File \u001b[1;32m\"<ipython-input-16-ba5a675af494>\"\u001b[1;36m, line \u001b[1;32m5\u001b[0m\n\u001b[1;33m    while c_start <= c_end\u001b[0m\n\u001b[1;37m                          ^\u001b[0m\n\u001b[1;31mSyntaxError\u001b[0m\u001b[1;31m:\u001b[0m invalid syntax\n"
     ]
    }
   ],
   "source": [
    "from math import sqrt,ceil\n",
    "counting=0\n",
    "c_start=int(input(\"enter stating counter  \"))\n",
    "c_end=int(input(\"enter the ending counter\"))\n",
    "while c_start <= c_end\n",
    "start=2\n",
    "end = ceil(sqrt(num))\n",
    "while  start <= end:\n",
    "    if num % start ==0:\n",
    "        print(f\"given no {num} is not prime\")\n",
    "        break\n",
    "    start += 1\n",
    "else :\n",
    "    print(f\"given no {num} is prime\")"
   ]
  },
  {
   "cell_type": "code",
   "execution_count": 17,
   "metadata": {},
   "outputs": [
    {
     "name": "stdout",
     "output_type": "stream",
     "text": [
      "row-->0\t0,1,2,3,4,\n",
      "row-->1\t0,1,2,3,4,\n",
      "row-->2\t0,1,2,3,4,\n",
      "row-->3\t0,1,2,3,4,\n"
     ]
    }
   ],
   "source": [
    "row = 0\n",
    "while row<=3 :\n",
    "    print(f\"row-->{row}\",end=\"\\t\")\n",
    "    col=0\n",
    "    while col<=4:\n",
    "        print(col,end=\",\")\n",
    "        col +=1\n",
    "    print()\n",
    "    row +=1"
   ]
  },
  {
   "cell_type": "code",
   "execution_count": 21,
   "metadata": {},
   "outputs": [
    {
     "name": "stdout",
     "output_type": "stream",
     "text": [
      "* \n",
      "* * \n",
      "* * * \n",
      "* * * * \n",
      "* * * * * \n",
      "* * * * * * \n",
      "* * * * * * * \n",
      "* * * * * * * * \n",
      "* * * * * * * * * \n",
      "* * * * * * * * * * \n"
     ]
    }
   ],
   "source": [
    "row = 0\n",
    "while  row < 10:\n",
    "    col = 0\n",
    "    while col < 10 :\n",
    "        if col <= row :\n",
    "            print(\"*\",end=' ')\n",
    "        else :\n",
    "            break\n",
    "        col +=1\n",
    "    print()\n",
    "    row +=1\n",
    "    "
   ]
  },
  {
   "cell_type": "code",
   "execution_count": 1,
   "metadata": {},
   "outputs": [
    {
     "name": "stdout",
     "output_type": "stream",
     "text": [
      "* * * * * * * * * * \n",
      "* * * * * * * * * \n",
      "* * * * * * * * \n",
      "* * * * * * * \n",
      "* * * * * * \n",
      "* * * * * \n",
      "* * * * \n",
      "* * * \n",
      "* * \n",
      "* \n"
     ]
    }
   ],
   "source": [
    "row = 0\n",
    "while  row < 10:\n",
    "    col = 0\n",
    "    while col < 10 :\n",
    "        if col <= (9-row) :\n",
    "            print(\"*\",end=' ')\n",
    "        else :\n",
    "            break\n",
    "        col +=1\n",
    "    print()\n",
    "    row +=1\n",
    "    \n"
   ]
  },
  {
   "cell_type": "code",
   "execution_count": null,
   "metadata": {},
   "outputs": [],
   "source": []
  }
 ],
 "metadata": {
  "kernelspec": {
   "display_name": "Python 3",
   "language": "python",
   "name": "python3"
  },
  "language_info": {
   "codemirror_mode": {
    "name": "ipython",
    "version": 3
   },
   "file_extension": ".py",
   "mimetype": "text/x-python",
   "name": "python",
   "nbconvert_exporter": "python",
   "pygments_lexer": "ipython3",
   "version": "3.7.3"
  }
 },
 "nbformat": 4,
 "nbformat_minor": 2
}
