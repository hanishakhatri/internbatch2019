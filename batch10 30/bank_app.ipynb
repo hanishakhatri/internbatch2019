{
 "cells": [
  {
   "cell_type": "code",
   "execution_count": 1,
   "metadata": {},
   "outputs": [],
   "source": [
    "import shelve"
   ]
  },
  {
   "cell_type": "code",
   "execution_count": 2,
   "metadata": {},
   "outputs": [],
   "source": [
    "from getpass import getpass"
   ]
  },
  {
   "cell_type": "code",
   "execution_count": 3,
   "metadata": {},
   "outputs": [],
   "source": [
    "acc1={'name':'hanisha','bal':12000,'password':'my123'}\n",
    "acc2={'name':'anisha','bal':10000,'password':'my123##'}\n",
    "acc3={'name':'nisha','bal':5000,'password':'my123@@'}\n",
    "acc4={'name':'anish','bal':2000,'password':'mylife'}"
   ]
  },
  {
   "cell_type": "code",
   "execution_count": 4,
   "metadata": {},
   "outputs": [],
   "source": [
    "db=shelve.open(\"bank_app.db\")"
   ]
  },
  {
   "cell_type": "code",
   "execution_count": 5,
   "metadata": {},
   "outputs": [],
   "source": [
    "db['1001']=acc1\n",
    "db['1002']=acc2\n",
    "db['1003']=acc3\n",
    "db['1004']=acc4\n",
    "db['last_acc']='1004'"
   ]
  },
  {
   "cell_type": "code",
   "execution_count": 6,
   "metadata": {},
   "outputs": [],
   "source": [
    "db.close()"
   ]
  },
  {
   "cell_type": "code",
   "execution_count": 7,
   "metadata": {},
   "outputs": [],
   "source": [
    "def main_menu():\n",
    "    from getpass import getpass\n",
    "    s='''1.login\\n 2.sign_up\\n 3.exit\\n'''\n",
    "    print(s)\n",
    "    ch=int(input(\"enter choice\"))\n",
    "    if ch==1:\n",
    "        acc_no=input(\"enter account no :\")\n",
    "        password=getpass(\"enter password\")\n",
    "        if login(acc_no,password):\n",
    "            menu(acc_no)\n",
    "        else:\n",
    "            main_menu()\n",
    "    elif ch==2:\n",
    "        sign_up()\n"
   ]
  },
  {
   "cell_type": "code",
   "execution_count": 42,
   "metadata": {},
   "outputs": [],
   "source": [
    "def login(acc_no,password):\n",
    "    db=shelve.open(\"bank_app.db\")\n",
    "    data=db.get(acc_no,False)\n",
    "    if  data:\n",
    "        if data.get('password')==password:\n",
    "            print(\"login successfull\")\n",
    "            return True\n",
    "        else:\n",
    "            print(\"invalid passsword\" )\n",
    "            print(\"try again\")\n",
    "            return False\n",
    "    else:\n",
    "        print(\"invalid account number\")\n",
    "        print(\"If you don't have any account please signup\")\n",
    "        return False\n",
    "    "
   ]
  },
  {
   "cell_type": "code",
   "execution_count": 43,
   "metadata": {},
   "outputs": [],
   "source": [
    "def menu(acc_no):\n",
    "    s='''1.credit\\n  2.debit\\n  3.check balance\\n  4.update password\\n   5.logout\\n'''\n",
    "    print(s)\n",
    "    ch=int(input(\"enter choice\"))\n",
    "    if ch==4:\n",
    "        update_password(acc_no)\n",
    "    elif ch==1:\n",
    "        credit(acc_no)\n",
    "    elif ch==2:\n",
    "        debit(acc_no)\n",
    "    elif ch==3:\n",
    "        check_balance(acc_no)"
   ]
  },
  {
   "cell_type": "code",
   "execution_count": 44,
   "metadata": {},
   "outputs": [],
   "source": [
    "def credit(acc_no):\n",
    "    amount=float(input(\"enter the amount to be credit in the account\"))\n",
    "    db=shelve.open(\"bank_app.db\",writeback=True)\n",
    "    old_bal=db[acc_no][\"bal\"]\n",
    "    print(old_bal)\n",
    "    new_bal=old_bal+amount\n",
    "    print(new_bal)\n",
    "    db[acc_no][\"bal\"]=new_bal\n",
    "    update=db[acc_no][\"bal\"]\n",
    "    print(\"your balance is update\",update)\n",
    "    db.close()\n",
    "    menu(acc_no)"
   ]
  },
  {
   "cell_type": "code",
   "execution_count": 45,
   "metadata": {},
   "outputs": [],
   "source": [
    "def debit(acc_no):\n",
    "    amount=float(input(\"enter the amount to be credit in the account\"))\n",
    "    db=shelve.open(\"bank_app.db\",writeback=True)\n",
    "    old_bal=db[acc_no][\"bal\"]\n",
    "    if old_bal<amount:\n",
    "        print(\"insufficient amount you dont have that balance in your account\")\n",
    "    else:\n",
    "        new_bal=old_bal-amount\n",
    "        db[acc_no][\"bal\"]=new_bal\n",
    "        update=db[acc_no][\"bal\"]\n",
    "        print(\"your balance is update\",update)\n",
    "        db.close()\n",
    "        menu(acc_no)\n",
    "    \n",
    "    "
   ]
  },
  {
   "cell_type": "code",
   "execution_count": 46,
   "metadata": {},
   "outputs": [],
   "source": [
    "def check_balance(acc_no):\n",
    "    db=shelve.open(\"bank_app.db\",writeback=True)\n",
    "    details=db[acc_no]['bal']\n",
    "    print(f\"your account details\",details)\n",
    "    db.close()\n",
    "    menu(acc_no)"
   ]
  },
  {
   "cell_type": "code",
   "execution_count": 47,
   "metadata": {},
   "outputs": [],
   "source": [
    "def update_password(acc_no):\n",
    "    p1=getpass(\"enter password\")\n",
    "    p2=getpass(\"verify password\")\n",
    "    if p1==p2:\n",
    "        db=shelve.open(\"bank_app.db\",writeback=True)\n",
    "        db[acc_no]['password']=p1\n",
    "        print(\"password successfully updated\")\n",
    "        print(\"please login again to verify\")\n",
    "        db.close()\n",
    "        #main_menu()\n",
    "        menu(acc_no)\n",
    "    else:\n",
    "        print(\"password doesnot change\")\n",
    "        print(\"try again\")\n",
    "        update_password(acc_no)"
   ]
  },
  {
   "cell_type": "code",
   "execution_count": 48,
   "metadata": {},
   "outputs": [],
   "source": [
    "def logout(acc_no):\n",
    "    print(\"thanks for using our services\")\n",
    "    main_menu()"
   ]
  },
  {
   "cell_type": "code",
   "execution_count": 49,
   "metadata": {},
   "outputs": [],
   "source": [
    "def exit():\n",
    "    print(\"thanks for using our service\")"
   ]
  },
  {
   "cell_type": "code",
   "execution_count": 56,
   "metadata": {},
   "outputs": [],
   "source": [
    "def sign_up():\n",
    "    db=shelve.open(\"bank_app.db\",writeback=True)\n",
    "    print(\"\\n\\n\\t\\tWelcome to signup service\\n\\n\")\n",
    "   # print(f\"Time: {time.ctime()}\")\n",
    "    name=input(\"\\n\\n\\tEnter your name:\")\n",
    "    bal=eval(input(\"\\n\\tEnter your initial amount :\"))\n",
    "    password=getpass(\"\\n\\tPassword :\")\n",
    "    acc = int(db.get('last_acc'))\n",
    "    db['last_acc'] = acc\n",
    "    acc = str(acc+1)\n",
    "    db[acc]={'name':name,'bal':bal,'password':password}\n",
    "    db.close()\n",
    "    #update_log(\"signup\",f\"signup sucessful for acc_no{acc_no} because of password verification\")\n",
    "    print(\"\\n\\n\\tAccount create sucessful write down your account number\")\n",
    "    print(f\"\\n\\n\\t your account num is {acc} and used to login \\n\\n\")\n",
    "    input(\"\\n\\n................press any key to continue......\")\n",
    "    main_menu()\n",
    "    "
   ]
  },
  {
   "cell_type": "code",
   "execution_count": null,
   "metadata": {},
   "outputs": [],
   "source": [
    "d1=main_menu()\n",
    "print(d1)\n"
   ]
  },
  {
   "cell_type": "markdown",
   "metadata": {},
   "source": [
    "#### "
   ]
  },
  {
   "cell_type": "code",
   "execution_count": null,
   "metadata": {},
   "outputs": [],
   "source": []
  }
 ],
 "metadata": {
  "kernelspec": {
   "display_name": "Python 3",
   "language": "python",
   "name": "python3"
  },
  "language_info": {
   "codemirror_mode": {
    "name": "ipython",
    "version": 3
   },
   "file_extension": ".py",
   "mimetype": "text/x-python",
   "name": "python",
   "nbconvert_exporter": "python",
   "pygments_lexer": "ipython3",
   "version": "3.7.3"
  }
 },
 "nbformat": 4,
 "nbformat_minor": 2
}
