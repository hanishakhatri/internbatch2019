{
 "cells": [
  {
   "cell_type": "code",
   "execution_count": 1,
   "metadata": {},
   "outputs": [],
   "source": [
    "import shelve"
   ]
  },
  {
   "cell_type": "code",
   "execution_count": 2,
   "metadata": {},
   "outputs": [],
   "source": [
    "from getpass import getpass"
   ]
  },
  {
   "cell_type": "code",
   "execution_count": 3,
   "metadata": {},
   "outputs": [],
   "source": [
    "acc1={'name':'hanisha','bal':12000,'password':'my123'}\n",
    "acc2={'name':'anisha','bal':10000,'password':'my123##'}\n",
    "acc3={'name':'nisha','bal':5000,'password':'my123@@'}\n",
    "acc4={'name':'anish','bal':2000,'password':'mylife'}"
   ]
  },
  {
   "cell_type": "code",
   "execution_count": 4,
   "metadata": {},
   "outputs": [],
   "source": [
    "db=shelve.open(\"bank_app.db\")"
   ]
  },
  {
   "cell_type": "code",
   "execution_count": 5,
   "metadata": {},
   "outputs": [],
   "source": [
    "db['1001']=acc1\n",
    "db['1002']=acc2\n",
    "db['1003']=acc3\n",
    "db['1004']=acc4"
   ]
  },
  {
   "cell_type": "code",
   "execution_count": 6,
   "metadata": {},
   "outputs": [],
   "source": [
    "db.close()"
   ]
  },
  {
   "cell_type": "code",
   "execution_count": 7,
   "metadata": {},
   "outputs": [],
   "source": [
    "def main_menu():\n",
    "    from getpass import getpass\n",
    "    s='''1.login\\n 2.sign_up\\n 3.exit\\n'''\n",
    "    print(s)\n",
    "    ch=int(input(\"enter choice\"))\n",
    "    if ch==1:\n",
    "        acc_no=input(\"enter account no :\")\n",
    "        password=getpass(\"enter password\")\n",
    "        if login(acc_no,password):\n",
    "            menu(acc_no)\n",
    "        else:\n",
    "            main_menu()\n",
    "    elif ch==2:\n",
    "        sign_up()\n"
   ]
  },
  {
   "cell_type": "code",
   "execution_count": 8,
   "metadata": {},
   "outputs": [],
   "source": [
    "def login(acc_no,password):\n",
    "    db=shelve.open(\"bank_app.db\")\n",
    "    data=db.get(acc_no,False)\n",
    "    if  data:\n",
    "        if data.get('password')==password:\n",
    "            print(\"login successfull\")\n",
    "            return True\n",
    "        else:\n",
    "            print(\"invalid passsword\" )\n",
    "            print(\"try again\")\n",
    "            return False\n",
    "    else:\n",
    "        print(\"invalid account number\")\n",
    "        print(\"If you don't have any account please signup\")\n",
    "        return False\n",
    "    "
   ]
  },
  {
   "cell_type": "code",
   "execution_count": 9,
   "metadata": {},
   "outputs": [],
   "source": [
    "def menu(acc_no):\n",
    "    s='''1.credit\\n  2.debit\\n  3.check balance\\n  4.update password\\n   5.logout\\n'''\n",
    "    print(s)\n",
    "    ch=int(input(\"enter choice\"))\n",
    "    if ch==4:\n",
    "        update_password(acc_no)\n",
    "    elif ch==1:\n",
    "        credit(acc_no)\n",
    "    elif ch==2:\n",
    "        debit(acc_no)\n",
    "    elif ch==3:\n",
    "        check_balance(acc_no)"
   ]
  },
  {
   "cell_type": "code",
   "execution_count": 10,
   "metadata": {},
   "outputs": [],
   "source": [
    "def credit(acc_no):\n",
    "    amount=float(input(\"enter the amount to be credit in the account\"))\n",
    "    db=shelve.open(\"bank_app.db\",writeback=True)\n",
    "    old_bal=db[acc_no][\"bal\"]\n",
    "    print(old_bal)\n",
    "    new_bal=old_bal+amount\n",
    "    print(new_bal)\n",
    "    db[acc_no][\"bal\"]=new_bal\n",
    "    update=db[acc_no][\"bal\"]\n",
    "    print(\"your balance is update\",update)\n",
    "    db.close()\n",
    "    menu(acc_no)"
   ]
  },
  {
   "cell_type": "code",
   "execution_count": 11,
   "metadata": {},
   "outputs": [],
   "source": [
    "def debit(acc_no):\n",
    "    amount=float(input(\"enter the amount to be credit in the account\"))\n",
    "    db=shelve.open(\"bank_app.db\",writeback=True)\n",
    "    old_bal=db[acc_no][\"bal\"]\n",
    "    if old_bal<amount:\n",
    "        print(\"insufficient amount you dont have that balance in your account\")\n",
    "    else:\n",
    "        new_bal=old_bal-amount\n",
    "        db[acc_no][\"bal\"]=new_bal\n",
    "        update=db[acc_no][\"bal\"]\n",
    "        print(\"your balance is update\",update)\n",
    "        db.close()\n",
    "        menu(acc_no)\n",
    "    \n",
    "    "
   ]
  },
  {
   "cell_type": "code",
   "execution_count": 12,
   "metadata": {},
   "outputs": [],
   "source": [
    "def check_balance(acc_no):\n",
    "    db=shelve.open(\"bank_app.db\",writeback=True)\n",
    "    details=db[acc_no]['bal']\n",
    "    print(f\"your account details\",details)\n",
    "    db.close()\n",
    "    menu(acc_no)"
   ]
  },
  {
   "cell_type": "code",
   "execution_count": 13,
   "metadata": {},
   "outputs": [],
   "source": [
    "def update_password(acc_no):\n",
    "    p1=getpass(\"enter password\")\n",
    "    p2=getpass(\"verify password\")\n",
    "    if p1==p2:\n",
    "        db=shelve.open(\"bank_app.db\",writeback=True)\n",
    "        db[acc_no]['password']=p1\n",
    "        print(\"password successfully updated\")\n",
    "        print(\"please login again to verify\")\n",
    "        db.close()\n",
    "        #main_menu()\n",
    "        menu(acc_no)\n",
    "    else:\n",
    "        print(\"password doesnot change\")\n",
    "        print(\"try again\")\n",
    "        update_password(acc_no)"
   ]
  },
  {
   "cell_type": "code",
   "execution_count": 14,
   "metadata": {},
   "outputs": [],
   "source": [
    "def logout(acc_no):\n",
    "    print(\"thanks for using our services\")\n",
    "    main_menu()"
   ]
  },
  {
   "cell_type": "code",
   "execution_count": 15,
   "metadata": {},
   "outputs": [],
   "source": [
    "def exit():\n",
    "    print(\"thanks for using our service\")"
   ]
  },
  {
   "cell_type": "code",
   "execution_count": 16,
   "metadata": {},
   "outputs": [],
   "source": [
    "def sign_up():\n",
    "    db=shelve.open(\"bank_app.db\")\n",
    "    acc_no=int(input(\"enter your account number\"))\n",
    "    data=list(map(int,db.key()))\n",
    "    print(data)\n",
    "    if acc_no in data:\n",
    "        print(\"sorry!! this account no. is already exist\")\n",
    "        print(\"try again\")\n",
    "        sign_up()\n",
    "    else:\n",
    "        print(\"please enter your details\")\n",
    "        new_user={\n",
    "            'name':input(\"nter your name\").strip().lower(),\n",
    "            'bal':int(input(\"enter your opening balance\")),\n",
    "            'password': input(\"enter password\")\n",
    "        }\n",
    "        db[str(acc_no)]=new_user\n",
    "        db.close()\n",
    "        print(\"your account is successfully added\")\n",
    "        main_menu()"
   ]
  },
  {
   "cell_type": "code",
   "execution_count": 17,
   "metadata": {},
   "outputs": [
    {
     "name": "stdout",
     "output_type": "stream",
     "text": [
      "1.login\n",
      " 2.sign_up\n",
      " 3.exit\n",
      "\n",
      "enter choice2\n",
      "enter your account number1005\n"
     ]
    },
    {
     "ename": "AttributeError",
     "evalue": "'DbfilenameShelf' object has no attribute 'key'",
     "output_type": "error",
     "traceback": [
      "\u001b[1;31m---------------------------------------------------------------------------\u001b[0m",
      "\u001b[1;31mAttributeError\u001b[0m                            Traceback (most recent call last)",
      "\u001b[1;32m<ipython-input-17-748aaa005cf2>\u001b[0m in \u001b[0;36m<module>\u001b[1;34m\u001b[0m\n\u001b[1;32m----> 1\u001b[1;33m \u001b[0mud1\u001b[0m\u001b[1;33m=\u001b[0m\u001b[0mmain_menu\u001b[0m\u001b[1;33m(\u001b[0m\u001b[1;33m)\u001b[0m\u001b[1;33m\u001b[0m\u001b[1;33m\u001b[0m\u001b[0m\n\u001b[0m\u001b[0;32m      2\u001b[0m \u001b[0mprint\u001b[0m\u001b[1;33m(\u001b[0m\u001b[0md1\u001b[0m\u001b[1;33m)\u001b[0m\u001b[1;33m\u001b[0m\u001b[1;33m\u001b[0m\u001b[0m\n",
      "\u001b[1;32m<ipython-input-7-b97813f2c17a>\u001b[0m in \u001b[0;36mmain_menu\u001b[1;34m()\u001b[0m\n\u001b[0;32m     12\u001b[0m             \u001b[0mmain_menu\u001b[0m\u001b[1;33m(\u001b[0m\u001b[1;33m)\u001b[0m\u001b[1;33m\u001b[0m\u001b[1;33m\u001b[0m\u001b[0m\n\u001b[0;32m     13\u001b[0m     \u001b[1;32melif\u001b[0m \u001b[0mch\u001b[0m\u001b[1;33m==\u001b[0m\u001b[1;36m2\u001b[0m\u001b[1;33m:\u001b[0m\u001b[1;33m\u001b[0m\u001b[1;33m\u001b[0m\u001b[0m\n\u001b[1;32m---> 14\u001b[1;33m         \u001b[0msign_up\u001b[0m\u001b[1;33m(\u001b[0m\u001b[1;33m)\u001b[0m\u001b[1;33m\u001b[0m\u001b[1;33m\u001b[0m\u001b[0m\n\u001b[0m",
      "\u001b[1;32m<ipython-input-16-44304abeb842>\u001b[0m in \u001b[0;36msign_up\u001b[1;34m()\u001b[0m\n\u001b[0;32m      2\u001b[0m     \u001b[0mdb\u001b[0m\u001b[1;33m=\u001b[0m\u001b[0mshelve\u001b[0m\u001b[1;33m.\u001b[0m\u001b[0mopen\u001b[0m\u001b[1;33m(\u001b[0m\u001b[1;34m\"bank_app.db\"\u001b[0m\u001b[1;33m)\u001b[0m\u001b[1;33m\u001b[0m\u001b[1;33m\u001b[0m\u001b[0m\n\u001b[0;32m      3\u001b[0m     \u001b[0macc_no\u001b[0m\u001b[1;33m=\u001b[0m\u001b[0mint\u001b[0m\u001b[1;33m(\u001b[0m\u001b[0minput\u001b[0m\u001b[1;33m(\u001b[0m\u001b[1;34m\"enter your account number\"\u001b[0m\u001b[1;33m)\u001b[0m\u001b[1;33m)\u001b[0m\u001b[1;33m\u001b[0m\u001b[1;33m\u001b[0m\u001b[0m\n\u001b[1;32m----> 4\u001b[1;33m     \u001b[0mdata\u001b[0m\u001b[1;33m=\u001b[0m\u001b[0mlist\u001b[0m\u001b[1;33m(\u001b[0m\u001b[0mmap\u001b[0m\u001b[1;33m(\u001b[0m\u001b[0mint\u001b[0m\u001b[1;33m,\u001b[0m\u001b[0mdb\u001b[0m\u001b[1;33m.\u001b[0m\u001b[0mkey\u001b[0m\u001b[1;33m(\u001b[0m\u001b[1;33m)\u001b[0m\u001b[1;33m)\u001b[0m\u001b[1;33m)\u001b[0m\u001b[1;33m\u001b[0m\u001b[1;33m\u001b[0m\u001b[0m\n\u001b[0m\u001b[0;32m      5\u001b[0m     \u001b[0mprint\u001b[0m\u001b[1;33m(\u001b[0m\u001b[0mdata\u001b[0m\u001b[1;33m)\u001b[0m\u001b[1;33m\u001b[0m\u001b[1;33m\u001b[0m\u001b[0m\n\u001b[0;32m      6\u001b[0m     \u001b[1;32mif\u001b[0m \u001b[0macc_no\u001b[0m \u001b[1;32min\u001b[0m \u001b[0mdata\u001b[0m\u001b[1;33m:\u001b[0m\u001b[1;33m\u001b[0m\u001b[1;33m\u001b[0m\u001b[0m\n",
      "\u001b[1;31mAttributeError\u001b[0m: 'DbfilenameShelf' object has no attribute 'key'"
     ]
    }
   ],
   "source": [
    "ud1=main_menu()\n",
    "print(d1)\n"
   ]
  },
  {
   "cell_type": "code",
   "execution_count": null,
   "metadata": {},
   "outputs": [],
   "source": []
  },
  {
   "cell_type": "code",
   "execution_count": null,
   "metadata": {},
   "outputs": [],
   "source": []
  }
 ],
 "metadata": {
  "kernelspec": {
   "display_name": "Python 3",
   "language": "python",
   "name": "python3"
  },
  "language_info": {
   "codemirror_mode": {
    "name": "ipython",
    "version": 3
   },
   "file_extension": ".py",
   "mimetype": "text/x-python",
   "name": "python",
   "nbconvert_exporter": "python",
   "pygments_lexer": "ipython3",
   "version": "3.7.3"
  }
 },
 "nbformat": 4,
 "nbformat_minor": 2
}
