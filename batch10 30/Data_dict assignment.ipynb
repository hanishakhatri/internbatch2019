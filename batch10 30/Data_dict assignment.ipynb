{
 "cells": [
  {
   "cell_type": "code",
   "execution_count": 4,
   "metadata": {},
   "outputs": [],
   "source": [
    "library ={\n",
    "    \"python core\":{\"book_id\":123,\"data_issue\":12/5/19,\"date_submission\":12/6/19,\"student_name\":\"rashi\",\"author_name\":\"van Russan\"}, \n",
    "    \n",
    "    \"java core\":{\"book_id\":13,\"data_issue\":11/4/19,\"date_submission\":11/5/19,\"student_name\":\"vartika\",\"author_name\":\"james gosling\"},\n",
    "    \n",
    "    \"java specification\":{\"book_id\":9119,\"data_issue\":10/3/19,\"date_submission\":10/4/19,\"student_name\":\"shubhiame\",\"author_name\":\"gilad bracha\"},\n",
    "    \n",
    "    \"C core\":{\"book_id\":1273,\"data_issue\":18/5/19,\"date_submission\":18/6/19,\"student_name\":\"samaya\",\"author_name\":\"Dennis ritchie\"},\n",
    "    \n",
    "    \"C++ core\":{\"book_id\":12993,\"data_issue\":12/1/19,\"date_submission\":12/2/19,\"student_name\":\"roma\",\"author_name\":\"Bjarne stroustrup\"},\n",
    "       \n",
    "}"
   ]
  },
  {
   "cell_type": "code",
   "execution_count": 3,
   "metadata": {},
   "outputs": [
    {
     "name": "stdout",
     "output_type": "stream",
     "text": [
      "{'python core': {'book_id': 123, 'data_issue': 0.12631578947368421, 'date_submission': 0.10526315789473684, 'student_name': 'rashi', 'author_name': 'van Russan'}, 'java core': {'book_id': 13, 'data_issue': 0.14473684210526316, 'date_submission': 0.11578947368421054, 'student_name': 'vartika', 'author_name': 'james gosling'}, 'java specification': {'book_id': 9119, 'data_issue': 0.1754385964912281, 'date_submission': 0.13157894736842105, 'student_name': 'shubhiame', 'author_name': 'gilad bracha'}, 'C core': {'book_id': 1273, 'data_issue': 0.18947368421052632, 'date_submission': 0.15789473684210525, 'student_name': 'samaya', 'author_name': 'Dennis ritchie'}, 'C++ core': {'book_id': 12993, 'data_issue': 0.631578947368421, 'date_submission': 0.3157894736842105, 'student_name': 'roma', 'author_name': 'Bjarne stroustrup'}}\n"
     ]
    }
   ],
   "source": [
    "print(library)"
   ]
  },
  {
   "cell_type": "code",
   "execution_count": 2,
   "metadata": {},
   "outputs": [],
   "source": [
    "cricket={\n",
    "    \"virat\":{ \"runs\":1000,\"matches\":243,\"match_win\":200,\"match_lost\":43,\"six\":70,\"four\":66},\n",
    "    \"MS.Dhoni\":{ \"runs\":1777,\"matches\":302,\"match_win\":209,\"match_lost\":93,\"six\":79,\"four\":88},\n",
    " \"sachin\":{ \"runs\":1780,\"matches\":307,\"match_win\":274,\"match_lost\":33,\"six\":56,\"four\":99},\n",
    "\n",
    "}"
   ]
  },
  {
   "cell_type": "code",
   "execution_count": 3,
   "metadata": {},
   "outputs": [
    {
     "name": "stdout",
     "output_type": "stream",
     "text": [
      "{'virat': {'runs': 1000, 'matches': 243, 'match_win': 200, 'match_lost': 43, 'six': 70, 'four': 66}, 'MS.Dhoni': {'runs': 1777, 'matches': 302, 'match_win': 209, 'match_lost': 93, 'six': 79, 'four': 88}, 'sachin': {'runs': 1780, 'matches': 307, 'match_win': 274, 'match_lost': 33, 'six': 56, 'four': 99}}\n"
     ]
    }
   ],
   "source": [
    "print(cricket)"
   ]
  },
  {
   "cell_type": "code",
   "execution_count": 2,
   "metadata": {},
   "outputs": [],
   "source": [
    "college={\n",
    "    \"anjali\":{\"college_id\":16,\"branch\":\"CSE\",\"father_name\":\"ram\",\"mother_name\":\"meera\"},\n",
    " \"vartika\":{\"college_id\":12,\"branch\":\"CSE\",\"father_name\":\"qwe\",\"mother_name\":\"wdd\"},\n",
    " \"jyoti\":{\"college_id\":14,\"branch\":\"ECE\",\"father_name\":\"jofv\",\"mother_name\":\"acc\"},\n",
    " \"karishma\":{\"college_id\":1,\"branch\":\"EE\",\"father_name\":\"jvd\",\"mother_name\":\"mvdff\"},\n",
    "\n",
    "}"
   ]
  },
  {
   "cell_type": "code",
   "execution_count": 3,
   "metadata": {},
   "outputs": [
    {
     "name": "stdout",
     "output_type": "stream",
     "text": [
      "{'anjali': {'college_id': 16, 'branch': 'CSE', 'father_name': 'ram', 'mother_name': 'meera'}, 'vartika': {'college_id': 12, 'branch': 'CSE', 'father_name': 'qwe', 'mother_name': 'wdd'}, 'jyoti': {'college_id': 14, 'branch': 'ECE', 'father_name': 'jofv', 'mother_name': 'acc'}, 'karishma': {'college_id': 1, 'branch': 'EE', 'father_name': 'jvd', 'mother_name': 'mvdff'}}\n"
     ]
    }
   ],
   "source": [
    "print(college)"
   ]
  },
  {
   "cell_type": "code",
   "execution_count": null,
   "metadata": {},
   "outputs": [],
   "source": []
  }
 ],
 "metadata": {
  "kernelspec": {
   "display_name": "Python 3",
   "language": "python",
   "name": "python3"
  },
  "language_info": {
   "codemirror_mode": {
    "name": "ipython",
    "version": 3
   },
   "file_extension": ".py",
   "mimetype": "text/x-python",
   "name": "python",
   "nbconvert_exporter": "python",
   "pygments_lexer": "ipython3",
   "version": "3.7.3"
  }
 },
 "nbformat": 4,
 "nbformat_minor": 2
}
